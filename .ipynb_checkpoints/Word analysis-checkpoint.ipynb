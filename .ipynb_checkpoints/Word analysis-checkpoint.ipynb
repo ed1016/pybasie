{
 "cells": [
  {
   "cell_type": "code",
   "execution_count": 1,
   "id": "3fa3927e",
   "metadata": {},
   "outputs": [],
   "source": [
    "import pickle\n",
    "import matplotlib as plt\n",
    "import os\n",
    "from utils.basie_class import *\n",
    "from scipy.stats import ttest_ind\n",
    "import re\n",
    "import pandas as pd\n",
    "import Levenshtein as lvn"
   ]
  },
  {
   "cell_type": "code",
   "execution_count": 2,
   "id": "b1c8ee51",
   "metadata": {},
   "outputs": [],
   "source": [
    "foldpath ='/Users/emiliedolne/Downloads/all'"
   ]
  },
  {
   "cell_type": "code",
   "execution_count": 3,
   "id": "496eab0c",
   "metadata": {},
   "outputs": [],
   "source": [
    "# list of each group\n",
    "ctrl=['ANDRU','BANCA', 'BLAJ', 'DUNPE','FARRO','HEWDE', 'HOWCH', 'HUGRO', 'JONJO', 'LADA', 'MACJA', 'RICJU', 'SELGI', 'STRNE', 'VANVE']\n",
    "ad=['BOIOL', 'BROMA', 'DOLST', 'HARJO', 'HEIBE', 'HONJO', 'JACAN', 'MCDMA', 'TALRU', 'THOAN2', 'VANSI', 'WOOCH']\n",
    "ivppa=['BLAAD', 'CHACH', 'CODJO', 'DISPA', 'HEWCO', 'JONGW', 'PETMI', 'THIJO']"
   ]
  },
  {
   "cell_type": "code",
   "execution_count": 55,
   "id": "09ab549b",
   "metadata": {},
   "outputs": [],
   "source": [
    "# plot options\n",
    "colorlist={}\n",
    "colorlistflash={}\n",
    "\n",
    "colorlist['ctrl']='b'\n",
    "colorlist['ad']='r'\n",
    "colorlist['ivppa']='g'\n",
    "colorlistflash['ctrl']='aqua'\n",
    "colorlistflash['ad']='mistyrose'\n",
    "colorlistflash['ivppa']='lime'"
   ]
  },
  {
   "cell_type": "markdown",
   "id": "5341a7c1",
   "metadata": {},
   "source": [
    "## Trying a single patient"
   ]
  },
  {
   "cell_type": "code",
   "execution_count": 40,
   "id": "9b30fc0b",
   "metadata": {},
   "outputs": [],
   "source": [
    "recordings=pd.read_csv('/Users/emiliedolne/Library/CloudStorage/OneDrive-ImperialCollegeLondon/PhD/Year 3/Smartter hear/py_bayesi/data/recordings.txt', sep='\\t', engine='python').to_numpy()\n",
    "sentences=pd.read_csv('/Users/emiliedolne/Library/CloudStorage/OneDrive-ImperialCollegeLondon/PhD/Year 3/Smartter hear/py_bayesi/data/sentences.txt', sep='\\t').to_numpy()"
   ]
  },
  {
   "cell_type": "code",
   "execution_count": 41,
   "id": "180700c8",
   "metadata": {},
   "outputs": [],
   "source": [
    "df = pd.read_csv('/Users/emiliedolne/Downloads/all/BROMAoffice/20231207_112543/results.csv')\n",
    "# print(df)"
   ]
  },
  {
   "cell_type": "code",
   "execution_count": 44,
   "id": "fe5cef4e",
   "metadata": {},
   "outputs": [
    {
     "name": "stdout",
     "output_type": "stream",
     "text": [
      "choice \t correct\n",
      "------ \t -------\n",
      "xxx \t hot\n",
      "word \t oil\n",
      "xxx \t hen\n",
      "xxx \t cud\n",
      "xxx \t sum\n",
      "tears \t teal\n",
      "safe \t same\n",
      "that \t bat\n",
      "done \t dung\n",
      "club \t pub\n",
      "xxxx \t pill\n",
      "pub \t buck\n",
      "xxxx \t duck\n",
      "cake \t cape\n",
      "gay \t gale\n",
      "book \t hook\n",
      "fag \t fang\n",
      "hat \t pat\n",
      "full \t will\n",
      "xxx \t bed\n",
      "mad \t man\n"
     ]
    }
   ],
   "source": [
    "refwords=[]\n",
    "choices=df['choice'].to_numpy()\n",
    "for i in range(len(df['file'])):\n",
    "    tmp=df['file'][i][0:7]\n",
    "    if tmp in recordings:\n",
    "        idx=np.where(recordings==(tmp))\n",
    "    else:\n",
    "        idx=np.where(recordings==(tmp+' '))\n",
    "    refwords.append(sentences[idx[0][0]][idx[1]][0])\n",
    "refwords=np.array(refwords)\n",
    "\n",
    "print('choice \\t correct')\n",
    "print('------ \\t -------')\n",
    "[print(x,'\\t',y) for x,y in zip(choices, refwords) if x!=y];"
   ]
  },
  {
   "cell_type": "markdown",
   "id": "49dd7587",
   "metadata": {},
   "source": [
    "## Loading all patients"
   ]
  },
  {
   "cell_type": "code",
   "execution_count": 7,
   "id": "231ffed1",
   "metadata": {},
   "outputs": [],
   "source": [
    "def load_group(group):\n",
    "    listgroup=[]\n",
    "    i=0\n",
    "    for patientID in group:\n",
    "        listgroup.append([])\n",
    "        for fold in os.listdir(foldpath):\n",
    "            if patientID in fold:\n",
    "                listgroup[i].append(fold)\n",
    "        if len(listgroup[i])==1:\n",
    "            newfoldpath=os.path.join(foldpath, listgroup[i][0])\n",
    "            listgroup[i]=[]\n",
    "            for fold in os.listdir(newfoldpath):\n",
    "                if patientID in fold:\n",
    "                    listgroup[i].append(fold)\n",
    "        i+=1\n",
    "    return listgroup"
   ]
  },
  {
   "cell_type": "code",
   "execution_count": 8,
   "id": "2c44020e",
   "metadata": {},
   "outputs": [],
   "source": [
    "# load organised list of people\n",
    "listpatients={}\n",
    "\n",
    "listpatients['ctrl']=load_group(ctrl)\n",
    "listpatients['ad']=load_group(ad)\n",
    "listpatients['ivppa']=load_group(ivppa)"
   ]
  },
  {
   "cell_type": "markdown",
   "id": "7c4115cf",
   "metadata": {},
   "source": [
    "### Load word vectors"
   ]
  },
  {
   "cell_type": "code",
   "execution_count": 48,
   "id": "120c5014",
   "metadata": {},
   "outputs": [],
   "source": [
    "def load_errors(room, group):\n",
    "    # find the groups in that room\n",
    "    listperroom=[]\n",
    "    for i in group:\n",
    "        for j in i:\n",
    "            if room in j:\n",
    "                listperroom.append(j)\n",
    "                \n",
    "    # load data from file\n",
    "    ptntlist=[]  \n",
    "    estimatelist=[]\n",
    "    for ptnt in listperroom:\n",
    "        ptntlist.append(ptnt[0:5])\n",
    "        for path, subdirs, files in os.walk(os.path.join(foldpath, ptnt)):\n",
    "            for name in files:\n",
    "                if 'csv' in name:\n",
    "#                     timinglist.append(path.split('/')[-1])\n",
    "                    with open(os.path.join(path,name), 'rb') as f:\n",
    "                        estimate=pd.read_csv(f)\n",
    "                        estimatelist.append(estimate)\n",
    "                \n",
    "    metrics=[];\n",
    "    for df in estimatelist:\n",
    "        refwords=[]\n",
    "        choices=df['choice'].to_numpy()\n",
    "        for i in range(len(df['file'])):\n",
    "            tmp=df['file'][i][0:7]\n",
    "            if tmp in recordings:\n",
    "                idx=np.where(recordings==(tmp))\n",
    "            else:\n",
    "                idx=np.where(recordings==(tmp+' '))\n",
    "            refwords.append(sentences[idx[0][0]][idx[1]][0])\n",
    "        \n",
    "        refwords=np.array(refwords)\n",
    "        wrongwords=[(x,y) for x,y in zip(choices, refwords) if x!=y];\n",
    "        xcntr=0\n",
    "        lowcntr=0\n",
    "        highcntr=0\n",
    "        for i in wrongwords:\n",
    "            if isinstance(i[0], float) or i=='x' or 'xx' in i[0] or 'pancking' in i[0] or 'panicking' in i[0]:\n",
    "                xcntr+=1\n",
    "            else:\n",
    "                lvndist=lvn.distance(i[0],i[1])\n",
    "                if lvndist>0.5*len(i[1]):\n",
    "                    highcntr+=1\n",
    "                else:\n",
    "                    lowcntr+=1\n",
    "        metrics.append([xcntr, lowcntr, highcntr])\n",
    "        \n",
    "    return metrics"
   ]
  },
  {
   "cell_type": "code",
   "execution_count": 51,
   "id": "6d851ea3",
   "metadata": {},
   "outputs": [],
   "source": [
    "roomlist=['anechoic','office', 'lobby', 'lectureroom']\n",
    "groups=['ctrl','ad', 'ivppa']\n",
    "errortypes=['x','low', 'high', 'numerrors']\n",
    "\n",
    "metrics_data={}\n",
    "\n",
    "for room in roomlist:\n",
    "    metrics_data[room]={}\n",
    "    for group in groups:\n",
    "        metrics_data[room][group]={}\n",
    "        metrics=load_errors(room, listpatients[group])\n",
    "        for i, error in enumerate(errortypes):\n",
    "            metrics_data[room][group][error]=[tmp[i] for tmp in metrics]\n"
   ]
  },
  {
   "cell_type": "code",
   "execution_count": 37,
   "id": "b032a413",
   "metadata": {},
   "outputs": [
    {
     "name": "stdout",
     "output_type": "stream",
     "text": [
      "[0.475, 0.475, 0.55, 0.425, 0.45, 0.45, 0.425, 0.5]\n"
     ]
    }
   ],
   "source": [
    "print((metrics_data['lobby']['ivppa']['percentage']))"
   ]
  },
  {
   "cell_type": "code",
   "execution_count": 47,
   "id": "94fb2184",
   "metadata": {},
   "outputs": [
    {
     "data": {
      "image/png": "[encoded data removed]",
      "text/plain": [
       "<Figure size 1200x300 with 4 Axes>"
      ]
     },
     "metadata": {},
     "output_type": "display_data"
    }
   ],
   "source": [
    "fig=plt.figure(figsize=(12,3))\n",
    "\n",
    "gs = fig.add_gridspec(1,4, wspace=0.5)\n",
    "ax=[]\n",
    "ax.append(fig.add_subplot(gs[0, 0]))\n",
    "ax.append(fig.add_subplot(gs[0, 1]))\n",
    "ax.append(fig.add_subplot(gs[0, 2]))\n",
    "ax.append(fig.add_subplot(gs[0, 3]))\n",
    "for i, room in enumerate(roomlist):\n",
    "    plt.sca(ax[i])\n",
    "    plotdata = pd.DataFrame({\n",
    "        \"low error\":[np.median(metrics_data[room]['ctrl']['low']),np.median(metrics_data[room]['ad']['low']),np.median(metrics_data[room]['ivppa']['low'])],\n",
    "        \"high error\":[np.median(metrics_data[room]['ctrl']['high']),np.median(metrics_data[room]['ad']['high']),np.median(metrics_data[room]['ivppa']['high'])],\n",
    "        \"x error\":[np.median(metrics_data[room]['ctrl']['x']),np.median(metrics_data[room]['ad']['x']),np.median(metrics_data[room]['ivppa']['x'])],},\n",
    "        index=[\"Ctrl\", \"AD\", \"IvPPA\"])\n",
    "    plotdata.plot(kind='bar', stacked=True, ax=ax[i])\n",
    "    plt.title(room)\n",
    "    plt.ylabel(\"Error type\")"
   ]
  },
  {
   "cell_type": "code",
   "execution_count": 19,
   "id": "9d4b25f0",
   "metadata": {},
   "outputs": [
    {
     "data": {
      "text/plain": [
       "1"
      ]
     },
     "execution_count": 19,
     "metadata": {},
     "output_type": "execute_result"
    }
   ],
   "source": [
    "lvn.distance('hat', 'bat')"
   ]
  }
 ],
 "metadata": {
  "kernelspec": {
   "display_name": "Python 3 (ipykernel)",
   "language": "python",
   "name": "python3"
  },
  "language_info": {
   "codemirror_mode": {
    "name": "ipython",
    "version": 3
   },
   "file_extension": ".py",
   "mimetype": "text/x-python",
   "name": "python",
   "nbconvert_exporter": "python",
   "pygments_lexer": "ipython3",
   "version": "3.10.8"
  }
 },
 "nbformat": 4,
 "nbformat_minor": 5
}
