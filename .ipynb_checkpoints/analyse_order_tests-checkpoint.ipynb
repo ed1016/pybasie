{
 "cells": [
  {
   "cell_type": "markdown",
   "id": "1f1fa576",
   "metadata": {},
   "source": [
    "# Analysing order of tests"
   ]
  },
  {
   "cell_type": "code",
   "execution_count": 1,
   "id": "87e2a605",
   "metadata": {},
   "outputs": [],
   "source": [
    "foldpath ='/Users/emiliedolne/Downloads/all'"
   ]
  },
  {
   "cell_type": "code",
   "execution_count": 2,
   "id": "c31a6b73",
   "metadata": {},
   "outputs": [],
   "source": [
    "import pickle\n",
    "import matplotlib as plt\n",
    "import os\n",
    "from utils.basie_class import *\n",
    "from scipy.stats import ttest_ind\n",
    "import re"
   ]
  },
  {
   "cell_type": "code",
   "execution_count": 3,
   "id": "343ac184",
   "metadata": {},
   "outputs": [
    {
     "name": "stdout",
     "output_type": "stream",
     "text": [
      "['BLAJI', 'CHACH', 'HEWCO', 'THIJO', 'JACAN', 'HONJO', 'HEWDE', 'FARRO', 'DUNPE', 'HOWCH', 'WOOCH', 'LADAN', 'VANVE', 'DISPA', 'BANCA', 'PETMI', 'TALRU', 'HARJO', 'HUGRO', 'ANDRU', 'JONGW', 'RICJU', 'BROMA', 'THOAN', 'BOIOL', 'STRNE', 'BLAAD', 'MACJA', 'JONJO', 'CODJO', 'DOLST', 'MCDMA', 'SELGI', 'VANSI', 'HEIBE']\n"
     ]
    }
   ],
   "source": [
    "listpatient=[]\n",
    "for fold in os.listdir(foldpath):\n",
    "    if '.DS_Store' not in fold:\n",
    "        listpatient.append(''.join(re.findall('[A-Z]', fold)))\n",
    "\n",
    "listpatient=list(set(listpatient))\n",
    "print(listpatient)"
   ]
  },
  {
   "cell_type": "code",
   "execution_count": 16,
   "id": "8b9c199b",
   "metadata": {},
   "outputs": [],
   "source": [
    "timingmatrix=[]\n",
    "conditionmatrix=[]\n",
    "estimatematrix=[]\n",
    "for iPatient in listpatient:\n",
    "#     foldpathdeep=os.path.join(foldpath, iPatient)\n",
    "    listconditions=[]\n",
    "    for fold in os.listdir(foldpath):\n",
    "        if iPatient in fold:\n",
    "            listconditions.append(fold)\n",
    "            \n",
    "    conditionnames=[]\n",
    "    timinglist=[]\n",
    "    estimatelist=[]\n",
    "    for condition in listconditions:\n",
    "        conditionnames.append(condition)\n",
    "        for path, subdirs, files in os.walk(os.path.join(foldpathdeep,condition)):\n",
    "            for name in files:\n",
    "                if 'pkl' in name:\n",
    "                    if 'paused' in name:\n",
    "                        print(f'Warning: {iPatient} took a pause in {conditionnames[-1]}')\n",
    "                    else:\n",
    "                        timinglist.append(path.split('/')[-1])\n",
    "                        with open(os.path.join(path,name), 'rb') as f:\n",
    "                            [estimate, __, __, __, __]=pickle.load(f)\n",
    "                            estimatelist.append(estimate)\n",
    "    conditionmatrix.append(conditionnames)\n",
    "    timingmatrix.append(timinglist)\n",
    "    estimatematrix.append(estimatelist)\n"
   ]
  },
  {
   "cell_type": "code",
   "execution_count": 15,
   "id": "4943b348",
   "metadata": {},
   "outputs": [
    {
     "name": "stdout",
     "output_type": "stream",
     "text": [
      "[]\n"
     ]
    }
   ],
   "source": [
    "print(timinglist)"
   ]
  },
  {
   "cell_type": "markdown",
   "id": "c249ef29",
   "metadata": {},
   "source": [
    "## Plot the mean variance per room"
   ]
  },
  {
   "cell_type": "code",
   "execution_count": null,
   "id": "10658ff2",
   "metadata": {},
   "outputs": [],
   "source": [
    "roomlist=['office', 'lectureroom', 'lobby', 'anechoic']\n",
    "\n",
    "varmatrix=[]\n",
    "\n",
    "srtvar=[]\n",
    "slopevar=[]\n",
    "for iroom in range(len(roomlist)):\n",
    "    srtvarlist=[]\n",
    "    slopevarlist=[]\n",
    "    for ipatient in range(len(listpatient)):\n",
    "        idx=[i for i in range(len(conditionmatrix[ipatient])) if roomlist[iroom] in conditionmatrix[ipatient][i]]\n",
    "        for i in idx:\n",
    "            srtvarlist.append(estimatematrix[ipatient][i].summary()[-1][-1][5])\n",
    "            slopevarlist.append(estimatematrix[ipatient][i].summary()[-1][-1][6])\n",
    "    srtvar.append(srtvarlist)\n",
    "    slopevar.append(slopevarlist)\n",
    "\n",
    "    \n",
    "# mean variance for SRT and slope, and total\n",
    "srtmeanvar=[np.mean(i) for i in srtvar]\n",
    "slopemeanvar=[np.mean(i) for i in slopevar]\n",
    "totalvar=np.add(srtmeanvar,slopemeanvar)\n",
    "\n",
    "# plot things\n",
    "toplot=[srtmeanvar, slopemeanvar, totalvar]\n",
    "labelstoplot=['SRT', 'Slope', 'Total']\n",
    "\n",
    "fig, ax = plt.subplots(layout='constrained')\n",
    "x = np.arange(len(roomlist))  # the label locations\n",
    "width = 0.25  # the width of the bars\n",
    "multiplier = 0\n",
    "\n",
    "for i in range(3):\n",
    "    offset = width * multiplier\n",
    "    rects = ax.bar(x + offset, toplot[i], width, label=labelstoplot[i])\n",
    "    ax.bar_label(rects, padding=3, fmt='%.2f')\n",
    "    multiplier += 1\n",
    "\n",
    "\n",
    "ax.set_ylabel('Mean variance')\n",
    "ax.set_title('Variance of the estimates by room')\n",
    "ax.legend(title='Estimate',loc='lower right', ncol=3)\n",
    "ax.set_xticks(x + width, roomlist)\n",
    "\n",
    "plt.show()\n",
    "res = ttest_ind(srtvar[0], srtvar[3], equal_var=False, alternative='greater')\n",
    "print(res)"
   ]
  },
  {
   "cell_type": "markdown",
   "id": "7dc68767",
   "metadata": {},
   "source": [
    "# Plot mean variance by order of test"
   ]
  },
  {
   "cell_type": "code",
   "execution_count": null,
   "id": "5d3693a2",
   "metadata": {},
   "outputs": [],
   "source": [
    "timelist=['1st', '2nd', '3rd', '4th']\n",
    "\n",
    "varmatrix=[]\n",
    "\n",
    "srtvar=[]\n",
    "slopevar=[]\n",
    "for timeid in range(len(timelist)):\n",
    "    srtvarlist=[]\n",
    "    slopevarlist=[]\n",
    "    for ipatient in range(len(listpatient)):\n",
    "        ab = zip(timingmatrix[ipatient],estimatematrix[ipatient])\n",
    "        C=sorted(ab, key=lambda x: x[0], reverse=False)\n",
    "        A = [C[i][0] for i in range(len(C))]\n",
    "        B = [C[i][1] for i in range(len(C))]\n",
    "        srtvarlist.append(B[timeid].summary()[-1][-1][5])\n",
    "        slopevarlist.append(B[timeid].summary()[-1][-1][6])\n",
    "    srtvar.append(srtvarlist)\n",
    "    slopevar.append(slopevarlist)\n",
    "\n",
    "# mean variance for SRT and slope, and total\n",
    "srtmeanvar=[np.mean(i) for i in srtvar]\n",
    "slopemeanvar=[np.mean(i) for i in slopevar]\n",
    "totalvar=np.add(srtmeanvar,slopemeanvar)\n",
    "\n",
    "# plot things\n",
    "toplot=[srtmeanvar, slopemeanvar, totalvar]\n",
    "labelstoplot=['SRT', 'Slope', 'Total']\n",
    "\n",
    "fig, ax = plt.subplots(layout='constrained')\n",
    "x = np.arange(len(roomlist))  # the label locations\n",
    "width = 0.25  # the width of the bars\n",
    "multiplier = 0\n",
    "\n",
    "for i in range(3):\n",
    "    offset = width * multiplier\n",
    "    rects = ax.bar(x + offset, toplot[i], width, label=labelstoplot[i])\n",
    "    ax.bar_label(rects, padding=3, fmt='%.2f')\n",
    "    multiplier += 1\n",
    "\n",
    "ax.set_ylabel('Mean variance')\n",
    "ax.set_title('Variance of the estimates by order of test')\n",
    "ax.legend(title='Estimate',loc='lower right', ncol=3)\n",
    "ax.set_xticks(x + width, timelist)\n",
    "\n",
    "plt.show()\n",
    "res = ttest_ind(srtvar[0], srtvar[2], equal_var=False, alternative='greater')\n",
    "print(res)"
   ]
  }
 ],
 "metadata": {
  "kernelspec": {
   "display_name": "Python 3 (ipykernel)",
   "language": "python",
   "name": "python3"
  },
  "language_info": {
   "codemirror_mode": {
    "name": "ipython",
    "version": 3
   },
   "file_extension": ".py",
   "mimetype": "text/x-python",
   "name": "python",
   "nbconvert_exporter": "python",
   "pygments_lexer": "ipython3",
   "version": "3.10.8"
  }
 },
 "nbformat": 4,
 "nbformat_minor": 5
}
