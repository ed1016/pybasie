{
 "cells": [
  {
   "cell_type": "code",
   "execution_count": 14,
   "id": "3fa3927e",
   "metadata": {},
   "outputs": [],
   "source": [
    "import pickle\n",
    "import matplotlib as plt\n",
    "import os\n",
    "from utils.basie_class import *\n",
    "from scipy.stats import ttest_ind\n",
    "import re\n",
    "import pandas as pd"
   ]
  },
  {
   "cell_type": "code",
   "execution_count": 2,
   "id": "b1c8ee51",
   "metadata": {},
   "outputs": [],
   "source": [
    "foldpath ='/Users/emiliedolne/Downloads/all'"
   ]
  },
  {
   "cell_type": "code",
   "execution_count": 3,
   "id": "496eab0c",
   "metadata": {},
   "outputs": [],
   "source": [
    "# list of each group\n",
    "ctrl=['ANDRU', 'SELGI', 'DUNPE', 'FARRO']\n",
    "ad=['HEIBE', 'TALRU', 'THOAN2', 'JACAN','JONG', 'CHACH', 'DOLST', 'HEIBE', 'HONJO', 'BLAAD', 'BROMA']\n",
    "# ivppa=['BLAAD', 'CHACH', 'JONGW']\n",
    "ivppa=[]"
   ]
  },
  {
   "cell_type": "code",
   "execution_count": 4,
   "id": "71403666",
   "metadata": {},
   "outputs": [],
   "source": [
    "# get a list of all patients in the results\n",
    "listpatient=[]\n",
    "for fold in os.listdir(foldpath):\n",
    "    if '.DS_Store' not in fold:\n",
    "        listpatient.append(''.join(re.findall('[A-Z]', fold)))\n",
    "\n",
    "listpatient=list(set(listpatient))"
   ]
  },
  {
   "cell_type": "markdown",
   "id": "5341a7c1",
   "metadata": {},
   "source": [
    "## Trying a single patient"
   ]
  },
  {
   "cell_type": "code",
   "execution_count": 34,
   "id": "9b30fc0b",
   "metadata": {},
   "outputs": [],
   "source": [
    "recordings=pd.read_csv('/Users/emiliedolne/Library/CloudStorage/OneDrive-ImperialCollegeLondon/PhD/Year 3/Smartter hear/py_bayesi/data/recordings.txt', sep='\\t')\n",
    "sentences=pd.read_csv('/Users/emiliedolne/Library/CloudStorage/OneDrive-ImperialCollegeLondon/PhD/Year 3/Smartter hear/py_bayesi/data/sentences.txt', sep='\\t')"
   ]
  },
  {
   "cell_type": "code",
   "execution_count": 16,
   "id": "180700c8",
   "metadata": {},
   "outputs": [],
   "source": [
    "df = pd.read_csv('/Users/emiliedolne/Downloads/all/THOAN2office/20230911_131838/results.csv')"
   ]
  },
  {
   "cell_type": "code",
   "execution_count": 40,
   "id": "11f9bd43",
   "metadata": {},
   "outputs": [
    {
     "name": "stdout",
     "output_type": "stream",
     "text": [
      "mrt_210_reverb_office_snr_0_db.wav\n"
     ]
    }
   ],
   "source": [
    "print(df['file'])"
   ]
  },
  {
   "cell_type": "code",
   "execution_count": 46,
   "id": "fe5cef4e",
   "metadata": {},
   "outputs": [
    {
     "name": "stdout",
     "output_type": "stream",
     "text": [
      "mrt_210\n",
      "0\n",
      "mrt_169\n",
      "1\n",
      "mrt_116\n",
      "2\n",
      "mrt_095\n",
      "3\n",
      "mrt_045\n",
      "4\n",
      "mrt_128\n",
      "5\n",
      "mrt_023\n",
      "6\n",
      "mrt_147\n",
      "7\n",
      "mrt_204\n",
      "8\n",
      "mrt_189\n",
      "9\n",
      "mrt_109\n",
      "10\n",
      "mrt_206\n",
      "11\n",
      "mrt_135\n",
      "12\n",
      "mrt_154\n",
      "13\n",
      "mrt_240\n",
      "14\n",
      "mrt_228\n",
      "15\n",
      "mrt_078\n",
      "16\n",
      "mrt_244\n",
      "17\n",
      "mrt_195\n",
      "18\n",
      "mrt_055\n",
      "19\n",
      "mrt_246\n",
      "20\n",
      "mrt_103\n",
      "21\n",
      "mrt_151\n",
      "22\n",
      "mrt_298\n",
      "23\n",
      "mrt_290\n",
      "24\n",
      "mrt_184\n",
      "25\n",
      "mrt_061\n",
      "26\n",
      "mrt_043\n",
      "27\n",
      "mrt_229\n",
      "28\n",
      "mrt_143\n",
      "29\n",
      "mrt_032\n",
      "30\n",
      "mrt_019\n",
      "31\n",
      "mrt_039\n",
      "32\n",
      "mrt_041\n",
      "33\n",
      "mrt_293\n",
      "34\n",
      "mrt_205\n",
      "35\n",
      "mrt_157\n",
      "36\n",
      "mrt_299\n",
      "37\n",
      "mrt_222\n",
      "38\n",
      "mrt_237\n",
      "39\n"
     ]
    }
   ],
   "source": [
    "for i in range(len(df['file'])):\n",
    "    print(df['file'][i][0:7])\n",
    "    print(recordings.loc[df['name'].str.contains('J')]"
   ]
  }
 ],
 "metadata": {
  "kernelspec": {
   "display_name": "Python 3 (ipykernel)",
   "language": "python",
   "name": "python3"
  },
  "language_info": {
   "codemirror_mode": {
    "name": "ipython",
    "version": 3
   },
   "file_extension": ".py",
   "mimetype": "text/x-python",
   "name": "python",
   "nbconvert_exporter": "python",
   "pygments_lexer": "ipython3",
   "version": "3.10.8"
  }
 },
 "nbformat": 4,
 "nbformat_minor": 5
}
